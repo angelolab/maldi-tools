{
 "cells": [
  {
   "cell_type": "code",
   "execution_count": 1,
   "id": "a3f92166-579d-4f8c-af65-d8dcea9ecda8",
   "metadata": {},
   "outputs": [],
   "source": [
    "import os\n",
    "import pathlib\n",
    "\n",
    "import matplotlib.pyplot as plt\n",
    "import numpy as np\n",
    "import pandas as pd\n",
    "from maldi_tools import load_maldi_data"
   ]
  },
  {
   "cell_type": "code",
   "execution_count": 2,
   "id": "82b21dea-b86f-4ddf-bfd6-1159aae33e49",
   "metadata": {},
   "outputs": [],
   "source": [
    "data_paths = [\n",
    "    \"X:\\\\MIBIdata\\\\Data\\\\Ke\\\\240830_TONIC3_7_50um\\\\240830_TONIC3_7_50um.d\",\n",
    "    \"X:\\\\MIBIdata\\\\Data\\\\Ke\\\\240831_TONIC4_7_50um\\\\240831_TONIC4_7_50um.d\",\n",
    "    \"X:\\\\MIBIdata\\\\Data\\\\Ke\\\\240831_TONIC7_7_50um\\\\240831_TONIC7_7_50um.d\",\n",
    "    \"X:\\\\MIBIdata\\\\Data\\\\Ke\\\\240901_TONIC11_7_50um\\\\240901_TONIC11_7_50um.d\",\n",
    "    \"X:\\\\MIBIdata\\\\Data\\\\Ke\\\\240902_TONIC13_7_50um\\\\240902_TONIC13_7_50um.d\"\n",
    "]"
   ]
  },
  {
   "cell_type": "code",
   "execution_count": null,
   "id": "7b7973a3-dac2-4ac4-bfb8-1033bb31827b",
   "metadata": {},
   "outputs": [
    {
     "name": "stdout",
     "output_type": "stream",
     "text": [
      "Initializing object for run 240830_TONIC3_7_50um\n",
      "Initialization complete!\n",
      "Extracting data from 240830_TONIC3_7_50um\n"
     ]
    },
    {
     "data": {
      "application/vnd.jupyter.widget-view+json": {
       "model_id": "6e5fc3f642104dfaba0126d4f7e426c1",
       "version_major": 2,
       "version_minor": 0
      },
      "text/plain": [
       "Extracting spectra from 240830_TONIC3_7_50um:   0%|          | 0/56659 [00:00<?, ?Spots/s]"
      ]
     },
     "metadata": {},
     "output_type": "display_data"
    },
    {
     "name": "stdout",
     "output_type": "stream",
     "text": [
      "                 mz  intensity              run_name\n",
      "0        800.108007       35.0  240830_TONIC3_7_50um\n",
      "1        800.132011       30.0  240830_TONIC3_7_50um\n",
      "2        800.336070       33.0  240830_TONIC3_7_50um\n",
      "3        800.424111       39.0  240830_TONIC3_7_50um\n",
      "4        800.528173       28.0  240830_TONIC3_7_50um\n",
      "...             ...        ...                   ...\n",
      "321874  2176.839265     2463.0  240830_TONIC3_7_50um\n",
      "321875  1034.171690      149.0  240830_TONIC3_7_50um\n",
      "321876  1034.176861      105.0  240830_TONIC3_7_50um\n",
      "321877  1664.624574       26.0  240830_TONIC3_7_50um\n",
      "321878  2175.849031       16.0  240830_TONIC3_7_50um\n",
      "\n",
      "[321879 rows x 3 columns]\n",
      "Initializing object for run 240831_TONIC4_7_50um\n",
      "Initialization complete!\n",
      "Extracting data from 240831_TONIC4_7_50um\n"
     ]
    },
    {
     "data": {
      "application/vnd.jupyter.widget-view+json": {
       "model_id": "d640834c5dc84d04a79488d3ae0ffa39",
       "version_major": 2,
       "version_minor": 0
      },
      "text/plain": [
       "Extracting spectra from 240831_TONIC4_7_50um:   0%|          | 0/50474 [00:00<?, ?Spots/s]"
      ]
     },
     "metadata": {},
     "output_type": "display_data"
    }
   ],
   "source": [
    "frame_df, spectra_df = load_maldi_data.run_coordinate_spectra_extraction(data_paths)"
   ]
  },
  {
   "cell_type": "code",
   "execution_count": null,
   "id": "d2aed4bb-7da3-485c-83d3-1104a3b79d21",
   "metadata": {},
   "outputs": [],
   "source": [
    "frame_df"
   ]
  },
  {
   "cell_type": "code",
   "execution_count": null,
   "id": "848f92af-bb96-4219-9255-3eccb8e25efb",
   "metadata": {},
   "outputs": [],
   "source": [
    "spectra_df"
   ]
  }
 ],
 "metadata": {
  "kernelspec": {
   "display_name": "Python 3 (ipykernel)",
   "language": "python",
   "name": "python3"
  },
  "language_info": {
   "codemirror_mode": {
    "name": "ipython",
    "version": 3
   },
   "file_extension": ".py",
   "mimetype": "text/x-python",
   "name": "python",
   "nbconvert_exporter": "python",
   "pygments_lexer": "ipython3",
   "version": "3.11.4"
  }
 },
 "nbformat": 4,
 "nbformat_minor": 5
}
