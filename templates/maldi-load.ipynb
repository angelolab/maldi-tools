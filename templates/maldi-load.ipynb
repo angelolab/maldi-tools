{
 "cells": [
  {
   "cell_type": "code",
   "execution_count": null,
   "id": "a3f92166-579d-4f8c-af65-d8dcea9ecda8",
   "metadata": {},
   "outputs": [],
   "source": [
    "import os\n",
    "import pathlib\n",
    "\n",
    "import matplotlib.pyplot as plt\n",
    "import numpy as np\n",
    "import pandas as pd\n",
    "from maldi_tools import load_maldi_data"
   ]
  },
  {
   "cell_type": "code",
   "execution_count": null,
   "id": "82b21dea-b86f-4ddf-bfd6-1159aae33e49",
   "metadata": {},
   "outputs": [],
   "source": [
    "maldi_data_paths = [\n",
    "    # list full paths to each .d data folder\n",
    "    # ex. \"/path/to/run/1.d\", \"/path/to/run/2.d\", etc.\n",
    "]"
   ]
  },
  {
   "cell_type": "code",
   "execution_count": null,
   "id": "5127e09e-048e-41d9-82a9-3fcc541b52c2",
   "metadata": {},
   "outputs": [],
   "source": [
    "spectra_df, poslog_df = load_maldi_data.extract_maldi_run_spectra(maldi_data_paths)"
   ]
  },
  {
   "cell_type": "code",
   "execution_count": null,
   "id": "d2aed4bb-7da3-485c-83d3-1104a3b79d21",
   "metadata": {},
   "outputs": [],
   "source": [
    "spectra_df"
   ]
  },
  {
   "cell_type": "code",
   "execution_count": null,
   "id": "848f92af-bb96-4219-9255-3eccb8e25efb",
   "metadata": {
    "scrolled": true
   },
   "outputs": [],
   "source": [
    "poslog_df"
   ]
  }
 ],
 "metadata": {
  "kernelspec": {
   "display_name": "Python 3 (ipykernel)",
   "language": "python",
   "name": "python3"
  },
  "language_info": {
   "codemirror_mode": {
    "name": "ipython",
    "version": 3
   },
   "file_extension": ".py",
   "mimetype": "text/x-python",
   "name": "python",
   "nbconvert_exporter": "python",
   "pygments_lexer": "ipython3",
   "version": "3.11.4"
  }
 },
 "nbformat": 4,
 "nbformat_minor": 5
}
