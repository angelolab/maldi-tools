{
 "cells": [
  {
   "cell_type": "markdown",
   "metadata": {},
   "source": [
    "# MALDI Extraction"
   ]
  },
  {
   "cell_type": "markdown",
   "metadata": {},
   "source": [
    "## Libraries"
   ]
  },
  {
   "cell_type": "code",
   "execution_count": null,
   "metadata": {
    "tags": []
   },
   "outputs": [],
   "source": [
    "import os\n",
    "import pathlib\n",
    "\n",
    "import matplotlib.pyplot as plt\n",
    "import numpy as np\n",
    "import pandas as pd\n",
    "from pyimzml.ImzMLParser import ImzMLParser\n",
    "from maldi_tools import extraction, plotting"
   ]
  },
  {
   "cell_type": "markdown",
   "metadata": {},
   "source": [
    "## File Paths"
   ]
  },
  {
   "cell_type": "code",
   "execution_count": null,
   "metadata": {
    "tags": []
   },
   "outputs": [],
   "source": [
    "data_name = \"panc2055_imzML\"\n",
    "data_file = pathlib.Path(data_name) / \"panc2055.imzML\""
   ]
  },
  {
   "cell_type": "code",
   "execution_count": null,
   "metadata": {
    "tags": []
   },
   "outputs": [],
   "source": [
    "base_dir = pathlib.Path(\"../data\")\n",
    "imzml_dir = base_dir / \"imzml\"\n",
    "library_dir = base_dir / \"libraries\"\n",
    "extraction_dir = base_dir / data_name / \"extracted\"\n",
    "debug_dir = base_dir / data_name / \"debug\""
   ]
  },
  {
   "cell_type": "code",
   "execution_count": null,
   "metadata": {
    "tags": []
   },
   "outputs": [],
   "source": [
    "data_path = imzml_dir / data_file"
   ]
  },
  {
   "cell_type": "code",
   "execution_count": null,
   "metadata": {
    "tags": []
   },
   "outputs": [],
   "source": [
    "# Create directories\n",
    "for directory in [base_dir, library_dir, extraction_dir, debug_dir]:\n",
    "    if not os.path.exists(directory):\n",
    "        directory.mkdir(parents=True, exist_ok=True)"
   ]
  },
  {
   "cell_type": "markdown",
   "metadata": {},
   "source": [
    "## Plotting Parameters"
   ]
  },
  {
   "cell_type": "code",
   "execution_count": null,
   "metadata": {
    "tags": []
   },
   "outputs": [],
   "source": [
    "plt.rcParams[\"figure.figsize\"] = (20, 13)\n",
    "plt.rcParams[\"ytick.color\"] = \"w\"\n",
    "plt.rcParams[\"xtick.color\"] = \"w\"\n",
    "plt.rcParams[\"axes.labelcolor\"] = \"w\"\n",
    "plt.rcParams[\"axes.edgecolor\"] = \"w\"\n",
    "plt.rcParams[\"axes.facecolor\"] = \"black\"\n",
    "plt.rcParams[\"savefig.edgecolor\"] = \"w\"\n",
    "plt.rcParams[\"savefig.facecolor\"] = \"black\"\n",
    "plt.rcParams[\"figure.facecolor\"] = \"black\"\n",
    "plt.rcParams[\"figure.constrained_layout.use\"] = False"
   ]
  },
  {
   "cell_type": "markdown",
   "metadata": {},
   "source": [
    "## Load necessary files"
   ]
  },
  {
   "cell_type": "markdown",
   "metadata": {},
   "source": [
    "### ImzML Data file"
   ]
  },
  {
   "cell_type": "code",
   "execution_count": null,
   "metadata": {
    "tags": []
   },
   "outputs": [],
   "source": [
    "imz_data = ImzMLParser(data_path, include_spectra_metadata=\"full\")"
   ]
  },
  {
   "cell_type": "markdown",
   "metadata": {},
   "source": [
    "### Library Peak List"
   ]
  },
  {
   "cell_type": "code",
   "execution_count": null,
   "metadata": {
    "tags": []
   },
   "outputs": [],
   "source": [
    "library_peak_list = library_dir / \"glycan_peaklist_KL.csv\"\n",
    "library_peak_df = pd.read_csv(library_peak_list)\n",
    "\n",
    "library_peak_df.head()"
   ]
  },
  {
   "cell_type": "markdown",
   "metadata": {},
   "source": [
    "## Constants"
   ]
  },
  {
   "cell_type": "code",
   "execution_count": null,
   "metadata": {
    "tags": []
   },
   "outputs": [],
   "source": [
    "intensity_percentile = 99"
   ]
  },
  {
   "cell_type": "markdown",
   "metadata": {},
   "source": [
    "## Spectrum Extraction"
   ]
  },
  {
   "cell_type": "markdown",
   "metadata": {},
   "source": [
    "Extract the *m/z* and *intensity* values."
   ]
  },
  {
   "cell_type": "code",
   "execution_count": null,
   "metadata": {
    "tags": []
   },
   "outputs": [],
   "source": [
    "total_mass_df, thresholds = extraction.extract_spectra(\n",
    "    imz_data=imz_data, intensity_percentile=intensity_percentile\n",
    ")"
   ]
  },
  {
   "cell_type": "code",
   "execution_count": null,
   "metadata": {
    "tags": []
   },
   "outputs": [],
   "source": [
    "display(total_mass_df)"
   ]
  },
  {
   "cell_type": "markdown",
   "metadata": {},
   "source": [
    "### Global Intensity Threshold\n",
    "\n",
    "Display the $n$ largest intensities, as well as the $m$-th intensity percentile, and set that as the *global intensity threshold*."
   ]
  },
  {
   "cell_type": "code",
   "execution_count": null,
   "metadata": {
    "tags": []
   },
   "outputs": [],
   "source": [
    "largest_intensity_count = 10"
   ]
  },
  {
   "cell_type": "code",
   "execution_count": null,
   "metadata": {
    "tags": []
   },
   "outputs": [],
   "source": [
    "total_mass_df.nlargest(largest_intensity_count, [\"intensity\"])"
   ]
  },
  {
   "cell_type": "code",
   "execution_count": null,
   "metadata": {
    "tags": []
   },
   "outputs": [],
   "source": [
    "global_intensity_threshold = np.percentile(total_mass_df[\"intensity\"].values, intensity_percentile)\n",
    "print(f\"Global Intensity Threshold: {global_intensity_threshold}\")"
   ]
  },
  {
   "cell_type": "markdown",
   "metadata": {},
   "source": [
    "## Peak Detection"
   ]
  },
  {
   "cell_type": "markdown",
   "metadata": {},
   "source": [
    "### Rolling Window Method"
   ]
  },
  {
   "cell_type": "code",
   "execution_count": null,
   "metadata": {
    "tags": []
   },
   "outputs": [],
   "source": [
    "log_intensities, log_int_percentile = extraction.rolling_window(\n",
    "    total_mass_df=total_mass_df, intensity_percentile=intensity_percentile, window_size=5000\n",
    ")"
   ]
  },
  {
   "cell_type": "markdown",
   "metadata": {},
   "source": [
    "### Plot Intensities"
   ]
  },
  {
   "cell_type": "code",
   "execution_count": null,
   "metadata": {
    "tags": []
   },
   "outputs": [],
   "source": [
    "plotting.plot_intensities(\n",
    "    total_mass_df=total_mass_df,\n",
    "    log_intensities=log_intensities,\n",
    "    log_int_percentile=log_int_percentile,\n",
    "    global_intensity_threshold=global_intensity_threshold,\n",
    ")"
   ]
  },
  {
   "cell_type": "markdown",
   "metadata": {},
   "source": [
    "### Signal Extraction"
   ]
  },
  {
   "cell_type": "code",
   "execution_count": null,
   "metadata": {
    "tags": []
   },
   "outputs": [],
   "source": [
    "peak_candidate_idxs, peak_candidates = extraction.signal_extraction(\n",
    "    total_mass_df=total_mass_df, log_int_percentile=log_int_percentile\n",
    ")"
   ]
  },
  {
   "cell_type": "code",
   "execution_count": null,
   "metadata": {
    "tags": []
   },
   "outputs": [],
   "source": [
    "print(f\"Candiate Peak Count: {len(peak_candidates)}\")"
   ]
  },
  {
   "cell_type": "code",
   "execution_count": null,
   "metadata": {
    "tags": []
   },
   "outputs": [],
   "source": [
    "plotting.plot_discovered_peaks(\n",
    "    total_mass_df=total_mass_df,\n",
    "    peak_candidate_idxs=peak_candidate_idxs,\n",
    "    peak_candidates=peak_candidates,\n",
    "    global_intensity_threshold=global_intensity_threshold,\n",
    ")"
   ]
  },
  {
   "cell_type": "markdown",
   "metadata": {},
   "source": [
    "### Get Peak Widths"
   ]
  },
  {
   "cell_type": "code",
   "execution_count": null,
   "metadata": {
    "tags": []
   },
   "outputs": [],
   "source": [
    "peak_df, l_ips_r, r_ips_r, peak_widths_height = extraction.get_peak_widths(\n",
    "    total_mass_df=total_mass_df,\n",
    "    peak_candidate_idxs=peak_candidate_idxs,\n",
    "    peak_candidates=peak_candidates,\n",
    "    thresholds=thresholds,\n",
    ")"
   ]
  },
  {
   "cell_type": "markdown",
   "metadata": {},
   "source": [
    "### Save Peak Spectra"
   ]
  },
  {
   "cell_type": "code",
   "execution_count": null,
   "metadata": {
    "tags": []
   },
   "outputs": [],
   "source": [
    "peak_df, l_ips_r, r_ips_r, peak_widths_height = extraction.get_peak_widths(\n",
    "    total_mass_df=total_mass_df,\n",
    "    peak_candidate_idxs=peak_candidate_idxs,\n",
    "    peak_candidates=peak_candidates,\n",
    "    thresholds=thresholds,\n",
    ")"
   ]
  },
  {
   "cell_type": "code",
   "execution_count": null,
   "metadata": {
    "tags": []
   },
   "outputs": [],
   "source": [
    "save_peak_spectra_debug = True"
   ]
  },
  {
   "cell_type": "code",
   "execution_count": null,
   "metadata": {
    "tags": []
   },
   "outputs": [],
   "source": [
    "panel_df = extraction.peak_spectra(\n",
    "    total_mass_df=total_mass_df,\n",
    "    peak_df=peak_df,\n",
    "    peak_candidate_idxs=peak_candidate_idxs,\n",
    "    peak_candidates=peak_candidates,\n",
    "    peak_widths_height=peak_widths_height,\n",
    "    l_ips_r=l_ips_r,\n",
    "    r_ips_r=r_ips_r,\n",
    "    save_peak_spectra_debug=save_peak_spectra_debug,\n",
    "    debug_dir=debug_dir,\n",
    ")"
   ]
  },
  {
   "cell_type": "code",
   "execution_count": null,
   "metadata": {
    "tags": []
   },
   "outputs": [],
   "source": [
    "panel_df"
   ]
  },
  {
   "cell_type": "markdown",
   "metadata": {},
   "source": [
    "## Integrate Coordinates\n",
    "\n",
    "Generate the images and save them in an *xarray*, where the dimensions are: Image (indexed by peak value), $x$, and $y$."
   ]
  },
  {
   "cell_type": "code",
   "execution_count": null,
   "metadata": {
    "tags": []
   },
   "outputs": [],
   "source": [
    "extraction.coordinate_integration(peak_df=peak_df, imz_data=imz_data)"
   ]
  },
  {
   "cell_type": "markdown",
   "metadata": {},
   "source": [
    "### Histogram preview of the Intensities of a given Peak\n",
    "\n",
    "Set a value for `desired_peak_hist` (ideally something from your library) and it'll find the nearest peak, and display a histogram of the intensities of the image with `bin_count` bins."
   ]
  },
  {
   "cell_type": "code",
   "execution_count": null,
   "metadata": {
    "tags": []
   },
   "outputs": [],
   "source": [
    "desired_peak_hist = 1809.639659\n",
    "bin_count = 40"
   ]
  },
  {
   "cell_type": "code",
   "execution_count": null,
   "metadata": {
    "tags": []
   },
   "outputs": [],
   "source": [
    "plotting.plot_peak_hist(peak=desired_peak_hist, bin_count=bin_count)"
   ]
  },
  {
   "cell_type": "markdown",
   "metadata": {},
   "source": [
    "## Match Glycan Library with Extracted Peaks"
   ]
  },
  {
   "cell_type": "markdown",
   "metadata": {},
   "source": [
    "### Constants"
   ]
  },
  {
   "cell_type": "code",
   "execution_count": null,
   "metadata": {
    "tags": []
   },
   "outputs": [],
   "source": [
    "ppm = 100"
   ]
  },
  {
   "cell_type": "code",
   "execution_count": null,
   "metadata": {
    "tags": []
   },
   "outputs": [],
   "source": [
    "matched_peaks_df = extraction.library_matching(\n",
    "    library_peak_df=library_peak_df, ppm=ppm, extraction_dir=extraction_dir\n",
    ")"
   ]
  },
  {
   "cell_type": "code",
   "execution_count": null,
   "metadata": {
    "tags": []
   },
   "outputs": [],
   "source": [
    "plotting.save_matched_peak_images(\n",
    "    matched_peaks_df=matched_peaks_df, extraction_dir=extraction_dir\n",
    ")"
   ]
  }
 ],
 "metadata": {
  "kernelspec": {
   "display_name": "Python 3 (ipykernel)",
   "language": "python",
   "name": "python3"
  },
  "language_info": {
   "codemirror_mode": {
    "name": "ipython",
    "version": 3
   },
   "file_extension": ".py",
   "mimetype": "text/x-python",
   "name": "python",
   "nbconvert_exporter": "python",
   "pygments_lexer": "ipython3",
   "version": "3.11.6"
  },
  "vscode": {
   "interpreter": {
    "hash": "785abe85ac71cce51a678e20ef045dc65ab31466fec2b31fbdd8ec2945e4eaff"
   }
  }
 },
 "nbformat": 4,
 "nbformat_minor": 4
}
