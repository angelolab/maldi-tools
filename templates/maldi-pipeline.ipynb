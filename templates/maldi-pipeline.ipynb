{
 "cells": [
  {
   "cell_type": "markdown",
   "metadata": {},
   "source": [
    "# MALDI Extraction"
   ]
  },
  {
   "cell_type": "markdown",
   "metadata": {},
   "source": [
    "## Libraries"
   ]
  },
  {
   "cell_type": "code",
   "execution_count": null,
   "metadata": {
    "tags": []
   },
   "outputs": [],
   "source": [
    "import os\n",
    "import pathlib\n",
    "\n",
    "import matplotlib.pyplot as plt\n",
    "import numpy as np\n",
    "import pandas as pd\n",
    "from pyimzml.ImzMLParser import ImzMLParser\n",
    "from maldi_tools import extraction, plotting"
   ]
  },
  {
   "cell_type": "markdown",
   "metadata": {},
   "source": [
    "## File Paths"
   ]
  },
  {
   "cell_type": "code",
   "execution_count": null,
   "metadata": {
    "tags": []
   },
   "outputs": [],
   "source": [
    "data_name = \"panc2055_imzML\"\n",
    "data_file = pathlib.Path(data_name) / \"panc2055.imzML\""
   ]
  },
  {
   "cell_type": "code",
   "execution_count": null,
   "metadata": {
    "tags": []
   },
   "outputs": [],
   "source": [
    "base_dir = pathlib.Path(\"../data\")\n",
    "imzml_dir = base_dir / \"imzml\"\n",
    "library_dir = base_dir / \"libraries\"\n",
    "extraction_dir = base_dir / data_name / \"extracted\"\n",
    "debug_dir = base_dir / data_name / \"debug\""
   ]
  },
  {
   "cell_type": "code",
   "execution_count": null,
   "metadata": {
    "tags": []
   },
   "outputs": [],
   "source": [
    "data_path = imzml_dir / data_file"
   ]
  },
  {
   "cell_type": "code",
   "execution_count": null,
   "metadata": {
    "tags": []
   },
   "outputs": [],
   "source": [
    "# Create directories\n",
    "for directory in [base_dir, library_dir, extraction_dir, debug_dir]:\n",
    "    if not os.path.exists(directory):\n",
    "        directory.mkdir(parents=True, exist_ok=True)"
   ]
  },
  {
   "cell_type": "markdown",
   "metadata": {},
   "source": [
    "## Plotting Parameters"
   ]
  },
  {
   "cell_type": "code",
   "execution_count": null,
   "metadata": {
    "tags": []
   },
   "outputs": [],
   "source": [
    "plt.rcParams[\"figure.figsize\"] = (20, 13)\n",
    "plt.rcParams[\"ytick.color\"] = \"w\"\n",
    "plt.rcParams[\"xtick.color\"] = \"w\"\n",
    "plt.rcParams[\"axes.labelcolor\"] = \"w\"\n",
    "plt.rcParams[\"axes.edgecolor\"] = \"w\"\n",
    "plt.rcParams[\"axes.facecolor\"] = \"black\"\n",
    "plt.rcParams[\"savefig.edgecolor\"] = \"w\"\n",
    "plt.rcParams[\"savefig.facecolor\"] = \"black\"\n",
    "plt.rcParams[\"figure.facecolor\"] = \"black\"\n",
    "plt.rcParams[\"figure.constrained_layout.use\"] = False"
   ]
  },
  {
   "cell_type": "markdown",
   "metadata": {},
   "source": [
    "## Load necessary files"
   ]
  },
  {
   "cell_type": "markdown",
   "metadata": {},
   "source": [
    "### ImzML Data file"
   ]
  },
  {
   "cell_type": "code",
   "execution_count": null,
   "metadata": {
    "tags": []
   },
   "outputs": [],
   "source": [
    "imz_data = ImzMLParser(data_path, include_spectra_metadata=\"full\")"
   ]
  },
  {
   "cell_type": "markdown",
   "metadata": {},
   "source": [
    "### Library Peak List"
   ]
  },
  {
   "cell_type": "code",
   "execution_count": null,
   "metadata": {
    "tags": []
   },
   "outputs": [],
   "source": [
    "library_peak_list = library_dir / \"glycan_peaklist_KL.csv\"\n",
    "library_peak_df = pd.read_csv(library_peak_list)\n",
    "\n",
    "library_peak_df.head()"
   ]
  },
  {
   "cell_type": "markdown",
   "metadata": {},
   "source": [
    "## Constants"
   ]
  },
  {
   "cell_type": "code",
   "execution_count": null,
   "metadata": {
    "tags": []
   },
   "outputs": [],
   "source": [
    "intensity_percentile = 99"
   ]
  },
  {
   "cell_type": "markdown",
   "metadata": {},
   "source": [
    "## Spectrum Extraction"
   ]
  },
  {
   "cell_type": "markdown",
   "metadata": {},
   "source": [
    "Extract the *m/z* and *intensity* values."
   ]
  },
  {
   "cell_type": "code",
   "execution_count": null,
   "metadata": {
    "tags": []
   },
   "outputs": [],
   "source": [
    "total_mass_df, thresholds = extraction.extract_spectra(\n",
    "    imz_data=imz_data, intensity_percentile=intensity_percentile\n",
    ")"
   ]
  },
  {
   "cell_type": "code",
   "execution_count": null,
   "metadata": {
    "tags": []
   },
   "outputs": [],
   "source": [
    "display(total_mass_df)"
   ]
  },
  {
   "cell_type": "markdown",
   "metadata": {},
   "source": [
    "### Global Intensity Threshold\n",
    "\n",
    "Display the $n$ largest intensities, as well as the $m$-th intensity percentile, and set that as the *global intensity threshold*."
   ]
  },
  {
   "cell_type": "code",
   "execution_count": null,
   "metadata": {
    "tags": []
   },
   "outputs": [],
   "source": [
    "largest_intensity_count = 10"
   ]
  },
  {
   "cell_type": "code",
   "execution_count": null,
   "metadata": {
    "tags": []
   },
   "outputs": [],
   "source": [
    "total_mass_df.nlargest(largest_intensity_count, [\"intensity\"])"
   ]
  },
  {
   "cell_type": "code",
   "execution_count": null,
   "metadata": {
    "tags": []
   },
   "outputs": [],
   "source": [
    "global_intensity_threshold = np.percentile(total_mass_df[\"intensity\"].values, intensity_percentile)\n",
    "print(f\"Global Intensity Threshold: {global_intensity_threshold}\")"
   ]
  },
  {
   "cell_type": "markdown",
   "metadata": {},
   "source": [
    "## Peak Detection"
   ]
  },
  {
   "cell_type": "markdown",
   "metadata": {},
   "source": [
    "### Rolling Window Method"
   ]
  },
  {
   "cell_type": "code",
   "execution_count": null,
   "metadata": {
    "tags": []
   },
   "outputs": [],
   "source": [
    "log_intensities, log_int_percentile = extraction.rolling_window(\n",
    "    total_mass_df=total_mass_df, intensity_percentile=intensity_percentile, window_size=5000\n",
    ")"
   ]
  },
  {
   "cell_type": "markdown",
   "metadata": {},
   "source": [
    "### Plot Intensities"
   ]
  },
  {
   "cell_type": "code",
   "execution_count": null,
   "metadata": {
    "tags": []
   },
   "outputs": [],
   "source": [
    "plotting.plot_intensities(\n",
    "    total_mass_df=total_mass_df,\n",
    "    log_intensities=log_intensities,\n",
    "    log_int_percentile=log_int_percentile,\n",
    "    global_intensity_threshold=global_intensity_threshold,\n",
    ")"
   ]
  },
  {
   "cell_type": "markdown",
   "metadata": {},
   "source": [
    "### Signal Extraction"
   ]
  },
  {
   "cell_type": "code",
   "execution_count": null,
   "metadata": {
    "tags": []
   },
   "outputs": [],
   "source": [
    "peak_candidate_idxs, peak_candidates = extraction.signal_extraction(\n",
    "    total_mass_df=total_mass_df, log_int_percentile=log_int_percentile\n",
    ")"
   ]
  },
  {
   "cell_type": "code",
   "execution_count": null,
   "metadata": {},
   "outputs": [],
   "source": [
    "print(f\"Candiate Peak Count: {len(peak_candidates)}\")"
   ]
  },
  {
   "cell_type": "code",
   "execution_count": null,
   "metadata": {
    "tags": []
   },
   "outputs": [],
   "source": [
    "plotting.plot_discovered_peaks(\n",
    "    total_mass_df=total_mass_df,\n",
    "    peak_candidate_idxs=peak_candidate_idxs,\n",
    "    peak_candidates=peak_candidates,\n",
    "    global_intensity_threshold=global_intensity_threshold,\n",
    ")"
   ]
  },
  {
   "cell_type": "markdown",
   "metadata": {},
   "source": [
    "### Get Peak Widths"
   ]
  },
  {
   "cell_type": "code",
   "execution_count": null,
   "metadata": {
    "tags": []
   },
   "outputs": [],
   "source": [
    "peak_df, l_ips_r, r_ips_r, peak_widths_height = extraction.get_peak_widths(\n",
    "    total_mass_df=total_mass_df,\n",
    "    peak_candidate_idxs=peak_candidate_idxs,\n",
    "    peak_candidates=peak_candidates,\n",
    "    thresholds=thresholds,\n",
    ")"
   ]
  },
  {
   "cell_type": "markdown",
   "metadata": {},
   "source": [
    "### Save Peak Spectra"
   ]
  },
  {
   "cell_type": "code",
   "execution_count": null,
   "metadata": {},
   "outputs": [],
   "source": [
    "save_peak_spectra_debug = True"
   ]
  },
  {
   "cell_type": "code",
   "execution_count": null,
   "metadata": {
    "tags": []
   },
   "outputs": [],
   "source": [
    "panel_df = extraction.peak_spectra(\n",
    "    total_mass_df=total_mass_df,\n",
    "    peak_df=peak_df,\n",
    "    peak_candidate_idxs=peak_candidate_idxs,\n",
    "    peak_candidates=peak_candidates,\n",
    "    peak_widths_height=peak_widths_height,\n",
    "    l_ips_r=l_ips_r,\n",
    "    r_ips_r=r_ips_r,\n",
    "    save_peak_spectra_debug=save_peak_spectra_debug,\n",
    "    debug_dir=debug_dir,\n",
    ")"
   ]
  },
  {
   "cell_type": "code",
   "execution_count": null,
   "metadata": {},
   "outputs": [],
   "source": [
    "panel_df"
   ]
  },
  {
   "cell_type": "markdown",
   "metadata": {},
   "source": [
    "## Integrate Coordinates\n",
    "\n",
    "Generate the images and save them as TIFFs in `extraction_dir`. Each file is named after their corresponding peak m/z value, truncated to 4 decimal places. The dimensions of each image correspond to the maximum x- and y-coordinates extracted from the slide."
   ]
  },
  {
   "cell_type": "code",
   "execution_count": null,
   "metadata": {
    "tags": []
   },
   "outputs": [],
   "source": [
    "extraction.coordinate_integration(peak_df=peak_df, imz_data=imz_data, extraction_dir=extraction_dir)"
   ]
  },
  {
   "cell_type": "markdown",
   "metadata": {},
   "source": [
    "### Histogram preview of the Intensities of a given Peak\n",
    "\n",
    "Set a value for `desired_peak_hist` (ideally something from your library) and it'll find the nearest peak, and display a histogram of the intensities of the image with `bin_count` bins."
   ]
  },
  {
   "cell_type": "code",
   "execution_count": null,
   "metadata": {
    "tags": []
   },
   "outputs": [],
   "source": [
    "desired_peak_hist = 1809.639659\n",
    "bin_count = 40"
   ]
  },
  {
   "cell_type": "code",
   "execution_count": null,
   "metadata": {
    "tags": []
   },
   "outputs": [],
   "source": [
    "plotting.plot_peak_hist(peak=desired_peak_hist, bin_count=bin_count)"
   ]
  },
  {
   "cell_type": "markdown",
   "metadata": {},
   "source": [
    "## Match Glycan Library with Extracted Peaks"
   ]
  },
  {
   "cell_type": "markdown",
   "metadata": {},
   "source": [
    "Set a value for the maximum ppm tolerance between a peak and its corresponding match in the `library_peak_df` specified. Matched peak images are saved as TIFFs to the `library_matched` subfolder inside `extraction_dir` and are named after their matched peak m/z value."
   ]
  },
  {
   "cell_type": "code",
   "execution_count": null,
   "metadata": {
    "tags": []
   },
   "outputs": [],
   "source": [
    "ppm = 100"
   ]
  },
  {
   "cell_type": "code",
   "execution_count": null,
   "metadata": {
    "tags": []
   },
   "outputs": [],
   "source": [
    "matched_peaks_df = extraction.library_matching(\n",
    "    library_peak_df=library_peak_df, ppm=ppm, extraction_dir=extraction_dir\n",
    ")"
   ]
  },
  {
   "cell_type": "code",
   "execution_count": null,
   "metadata": {
    "tags": []
   },
   "outputs": [],
   "source": [
    "plotting.save_matched_peak_images(\n",
    "    matched_peaks_df=matched_peaks_df, extraction_dir=extraction_dir\n",
    ")"
   ]
  },
  {
   "cell_type": "markdown",
   "metadata": {},
   "source": [
    "## Core Naming and Cropping"
   ]
  },
  {
   "cell_type": "markdown",
   "metadata": {},
   "source": [
    "For TMAs, each core is extracted all at once. However, this makes it difficult to locate the exact positions of each core. Additionally, the default names assigned to each core aren't particularly useful because they don't contain any information about their position on the TMA.\n",
    "\n",
    "This section will help you assign informative names to each core and afterwards, segment out the locations of specific cores to generate FOV-level statistics."
   ]
  },
  {
   "cell_type": "markdown",
   "metadata": {},
   "source": [
    "It is helpful first to create an all-encompassing mask that defines the locations of all the cores. This will make it clear where the TMA was scanned for the naming step. You will need to provide the path to one of your extracted glycan images first.\n",
    "\n",
    "* `glycan_img_path`: path to one glycan image, needed to properly dimension the mask\n",
    "* `glycan_mask_path`: where the mask will be saved"
   ]
  },
  {
   "cell_type": "code",
   "execution_count": null,
   "metadata": {},
   "outputs": [],
   "source": [
    "glycan_img_path = \"path/to/glycan_img.tiff\"\n",
    "glycan_mask_path = \"path/to/glycan_mask.png\"\n",
    "\n",
    "# generate and save the glycan mask\n",
    "extraction.generate_glycan_mask(\n",
    "    imz_data=imz_data,\n",
    "    glycan_img_path=glycan_img_path,\n",
    "    glycan_mask_path=glycan_mask_path\n",
    ")"
   ]
  },
  {
   "cell_type": "markdown",
   "metadata": {},
   "source": [
    "Each core on the TMA should be appropriately named by the <a href=https://tsai.stanford.edu/research/maldi_tma/>TSAI MALDI tiler</a>. You will need to provide the PNG saved at `glycan_mask_path` as input. **Ensure that this step is completed before running the following sections.**"
   ]
  },
  {
   "cell_type": "markdown",
   "metadata": {},
   "source": [
    "The poslog files for your TMA run will contain each scanned coordinate in the exact order it was scanned. This, along with the tiler output, will be needed to map each coordinate to its respective core.\n",
    "\n",
    "* `centroid_path`: TSAI MALDI tiler output, contains name of each core mapped to respective centroid\n",
    "* `poslog_paths`: list of poslog files used for the TMA, contains all coordinates in order of acquisition. **Make sure this matches up with the order of acquisition for your run.**"
   ]
  },
  {
   "cell_type": "code",
   "execution_count": null,
   "metadata": {},
   "outputs": [],
   "source": [
    "centroid_path = \"path/to/centroids.json\"\n",
    "poslog_paths = [\"path/to/poslog1.txt\", \"path/to/poslog2.txt\"]\n",
    "\n",
    "# map coordinates to core names\n",
    "region_core_info = extraction.map_coordinates_to_core_name(\n",
    "    imz_data=imz_data,\n",
    "    centroid_path=centroid_path,\n",
    "    poslog_paths=poslog_paths\n",
    ")"
   ]
  },
  {
   "cell_type": "markdown",
   "metadata": {},
   "source": [
    "To generate FOV-level statistics, an individual mask for each core named by TSAI will be saved. They can then be loaded in as needed in the FOV-level-statistic-generating functions.\n",
    "\n",
    "* `glycan_crop_save_dir`: the directory where these masks will be saved"
   ]
  },
  {
   "cell_type": "code",
   "execution_count": null,
   "metadata": {},
   "outputs": [],
   "source": [
    "glycan_crop_save_dir = \"path/to/glycan/crops\"\n",
    "if not os.path.exists(glycan_crop_save_dir):\n",
    "    os.makedirs(glycan_crop_save_dir)\n",
    "\n",
    "extraction.generate_glycan_crop_masks(\n",
    "    glycan_mask_path=glycan_mask_path,\n",
    "    region_core_info=region_core_info,\n",
    "    glycan_crop_save_dir=glycan_crop_save_dir\n",
    ")"
   ]
  },
  {
   "cell_type": "markdown",
   "metadata": {},
   "source": [
    "Run the following cell to visualize the masks for certain cores for testing.\n",
    "\n",
    "* `cores_to_crop`: define all the cores you want to visualize their masks for. If multiple cores are specified, the individual masks are combined. Set to `None` to crop all cores out."
   ]
  },
  {
   "cell_type": "code",
   "execution_count": null,
   "metadata": {},
   "outputs": [],
   "source": [
    "cores_to_crop = [\"R1C1\", \"R1C2\"]\n",
    "\n",
    "# extract a binary mask with just the cores specified\n",
    "core_cropping_mask = extraction.load_glycan_crop_masks(\n",
    "    glycan_crop_save_dir=glycan_crop_save_dir,\n",
    "    cores_to_crop=cores_to_crop\n",
    ")\n",
    "\n",
    "# visualize the mask\n",
    "_ = plt.imshow(core_cropping_mask)"
   ]
  }
 ],
 "metadata": {
  "kernelspec": {
   "display_name": "Python 3 (ipykernel)",
   "language": "python",
   "name": "python3"
  },
  "language_info": {
   "codemirror_mode": {
    "name": "ipython",
    "version": 3
   },
   "file_extension": ".py",
   "mimetype": "text/x-python",
   "name": "python",
   "nbconvert_exporter": "python",
   "pygments_lexer": "ipython3",
   "version": "3.11.10"
  },
  "vscode": {
   "interpreter": {
    "hash": "785abe85ac71cce51a678e20ef045dc65ab31466fec2b31fbdd8ec2945e4eaff"
   }
  }
 },
 "nbformat": 4,
 "nbformat_minor": 4
}
