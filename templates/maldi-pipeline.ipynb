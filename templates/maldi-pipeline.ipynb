{
 "cells": [
  {
   "cell_type": "markdown",
   "metadata": {},
   "source": [
    "# MALDI Extraction\n",
    "\n",
    "This notebook is the analysis pipeline for the MALDI data. For each MALDI run, this notebook runs the following workflow:\n",
    "\n",
    "- **Spectra extraction**: read m/z spectra and corresponding intensities from the binary files\n",
    "- **Peak filtering**: identify most prominent m/z peaks, along with their widths, heights, areas, etc.\n",
    "- **Coordinate integration**: map peak information onto the MALDI slide\n",
    "- **Glycan matching**: map filtered peaks to master glycan list\n",
    "- **Core-level analysis (TMAs only)**: crop out specific cores, extract core-level stats"
   ]
  },
  {
   "cell_type": "markdown",
   "metadata": {},
   "source": [
    "## 0. Import Modules"
   ]
  },
  {
   "cell_type": "code",
   "execution_count": null,
   "metadata": {
    "tags": []
   },
   "outputs": [],
   "source": [
    "import os\n",
    "import pathlib\n",
    "\n",
    "import matplotlib.pyplot as plt\n",
    "import numpy as np\n",
    "import pandas as pd\n",
    "from pyimzml.ImzMLParser import ImzMLParser\n",
    "from maldi_tools import extraction, plotting"
   ]
  },
  {
   "cell_type": "markdown",
   "metadata": {
    "tags": []
   },
   "source": [
    "## 1. Define Global Constants\n",
    "\n",
    "### 1.1. File paths\n",
    "\n",
    "The following variables are defined pointing to paths in your MALDI run. **Only `base_dir` should be changed, the other folders should maintain the existing names and subdirectory structure.**\n",
    "\n",
    "* `base_dir`: the path to your MALDI data.\n",
    "* `imzml_dir`: the path inside `base_dir` to your `imzml` folder. This will contain the `.imzml` and `.ibd` files extracted from SCiLS.\n",
    "* `library_dir`: the path inside `base_dir` to your `libraries` folder. This will contain the master list to use for glycan matching.\n",
    "* `extraction_dir`: the path inside `base_dir` to your `extracted` folder. Contains the integrated images for each filtered peak and glycan-matched peak across the slide.\n",
    "* `debug_dir`: the path inside `base_dir` to your `debug` folder. Individual peak height and width info is saved here for debugging purposes."
   ]
  },
  {
   "cell_type": "code",
   "execution_count": null,
   "metadata": {
    "tags": []
   },
   "outputs": [],
   "source": [
    "base_dir = pathlib.Path(\"../data/panc2055\")\n",
    "imzml_dir = base_dir / \"imzml\"\n",
    "library_dir = base_dir / \"libraries\"\n",
    "extraction_dir = base_dir / \"output\" / \"extracted\"\n",
    "debug_dir = base_dir / \"output\" / \"debug\""
   ]
  },
  {
   "cell_type": "markdown",
   "metadata": {},
   "source": [
    "Create the directory structure (if it already exists, nothing is overwritten)."
   ]
  },
  {
   "cell_type": "code",
   "execution_count": null,
   "metadata": {
    "tags": []
   },
   "outputs": [],
   "source": [
    "# Create directories\n",
    "for directory in [base_dir, imzml_dir, library_dir, extraction_dir, debug_dir]:\n",
    "    if not os.path.exists(directory):\n",
    "        directory.mkdir(parents=True, exist_ok=True)"
   ]
  },
  {
   "cell_type": "markdown",
   "metadata": {},
   "source": [
    "**NOTE: At this point, ensure you have the following files in the following locations:**\n",
    "\n",
    "* **`.imzml`/`.ibd` files**: extracted using SCiLS. **Either explicitly point to the `imzml` subfolder when extracting, or manually copy these files to the `imzml` subfolder afterwards.**\n",
    "* **Master glycan list**: defining a singular master glycan list is a WIP. For now, ask a lab member for the peak list to use. **This file must be manually copied into the `libraries` subfolder.**\n",
    "\n",
    "And define the following variable:\n",
    "\n",
    "* `imzml_file`: the name of the `.imzml` file in the `imzml` subfolder."
   ]
  },
  {
   "cell_type": "code",
   "execution_count": null,
   "metadata": {},
   "outputs": [],
   "source": [
    "imzml_file = \"panc2055.imzml\"\n",
    "imzml_path = imzml_file / imzml_path"
   ]
  },
  {
   "cell_type": "markdown",
   "metadata": {},
   "source": [
    "### 1.2. Plotting parameters\n",
    "\n",
    "Define the pltoting parameters."
   ]
  },
  {
   "cell_type": "code",
   "execution_count": null,
   "metadata": {
    "tags": []
   },
   "outputs": [],
   "source": [
    "plt.rcParams[\"figure.figsize\"] = (20, 13)\n",
    "plt.rcParams[\"ytick.color\"] = \"w\"\n",
    "plt.rcParams[\"xtick.color\"] = \"w\"\n",
    "plt.rcParams[\"axes.labelcolor\"] = \"w\"\n",
    "plt.rcParams[\"axes.edgecolor\"] = \"w\"\n",
    "plt.rcParams[\"axes.facecolor\"] = \"black\"\n",
    "plt.rcParams[\"savefig.edgecolor\"] = \"w\"\n",
    "plt.rcParams[\"savefig.facecolor\"] = \"black\"\n",
    "plt.rcParams[\"figure.facecolor\"] = \"black\"\n",
    "plt.rcParams[\"figure.constrained_layout.use\"] = False"
   ]
  },
  {
   "cell_type": "code",
   "execution_count": null,
   "metadata": {},
   "outputs": [],
   "source": []
  },
  {
   "cell_type": "markdown",
   "metadata": {},
   "source": [
    "## 2. Data Loading\n",
    "\n",
    "### 2.1. Spectra\n",
    "\n",
    "Load in the spectra information defined by the `.imzml`/`.ibd` file. The following variables are extracted:\n",
    "\n",
    "* `total_mass_df`: tabulates every m/z value found along with their corresponding intensity (summed across all pixels).\n",
    "* `thresholds`: defines the nth intensity value (defined by `intensity_percentile`, computed across all m/z values) found across each pixel."
   ]
  },
  {
   "cell_type": "code",
   "execution_count": null,
   "metadata": {
    "tags": []
   },
   "outputs": [],
   "source": [
    "# define the .imzml/.ibd loader object\n",
    "imz_data = ImzMLParser(imzml_path, include_spectra_metadata=\"full\")\n",
    "\n",
    "# extract the spectra and threshold array\n",
    "total_mass_df, thresholds = extraction.extract_spectra(\n",
    "    imz_data=imz_data, intensity_percentile=intensity_percentile\n",
    ")\n",
    "\n",
    "# define the global intensity threshold\n",
    "intensity_percentile = 99\n",
    "global_intensity_threshold = np.percentile(total_mass_df[\"intensity\"].values, intensity_percentile)\n",
    "print(f\"Global Intensity Threshold: {global_intensity_threshold}\")\n",
    "\n",
    "# display the format and the top few peaks extracted\n",
    "display(total_mass_df.head())"
   ]
  },
  {
   "cell_type": "markdown",
   "metadata": {},
   "source": [
    "For additional verification, set `largest_intensity_count` to see the `n` largest intensities."
   ]
  },
  {
   "cell_type": "code",
   "execution_count": null,
   "metadata": {},
   "outputs": [],
   "source": [
    "largest_intensity_count = 10\n",
    "total_mass_df.nlargest(largest_intensity_count, [\"intensity\"])"
   ]
  },
  {
   "cell_type": "markdown",
   "metadata": {},
   "source": [
    "### 2.2. Master library peaks\n",
    "\n",
    "Load the master glycan peak list, this will be used by the library matching process."
   ]
  },
  {
   "cell_type": "code",
   "execution_count": null,
   "metadata": {
    "tags": []
   },
   "outputs": [],
   "source": [
    "library_peak_list = library_dir / \"glycan_peaklist_KL.csv\"\n",
    "library_peak_df = pd.read_csv(library_peak_list)\n",
    "\n",
    "# visualize the top few master peaks defined\n",
    "library_peak_df.head()"
   ]
  },
  {
   "cell_type": "markdown",
   "metadata": {},
   "source": [
    "## 3. Peak Analysis\n",
    "\n",
    "### 3.1. Define prominence thresholds\n",
    "\n",
    "Although various peaks can be identified across a run's spectra, the vast majority of them will be too small to indicate any meaningful signal. To address this, a prominence-based peak filtering method is used (see https://www.mathworks.com/help/signal/ug/prominence.html for a good definition of prominence).\n",
    "\n",
    "The first step is to use a rolling window-based approach to extract the prominence thresholds to use for peak filtering."
   ]
  },
  {
   "cell_type": "code",
   "execution_count": null,
   "metadata": {
    "tags": []
   },
   "outputs": [],
   "source": [
    "log_intensities, log_int_percentile = extraction.rolling_window(\n",
    "    total_mass_df=total_mass_df, intensity_percentile=intensity_percentile, window_size=5000\n",
    ")"
   ]
  },
  {
   "cell_type": "markdown",
   "metadata": {},
   "source": [
    "Visualizes how the thresholds you chose affect the peak candidates identified."
   ]
  },
  {
   "cell_type": "code",
   "execution_count": null,
   "metadata": {
    "tags": []
   },
   "outputs": [],
   "source": [
    "plotting.plot_intensities(\n",
    "    total_mass_df=total_mass_df,\n",
    "    log_intensities=log_intensities,\n",
    "    log_int_percentile=log_int_percentile,\n",
    "    global_intensity_threshold=global_intensity_threshold,\n",
    ")"
   ]
  },
  {
   "cell_type": "markdown",
   "metadata": {},
   "source": [
    "### 3.2. Extract and filter the m/z peaks\n",
    "\n",
    "Once you're happy with the prominence thresholds defined in `log_int_percentile`, run the following cell to identify the m/z peaks, which does the following:\n",
    "\n",
    "1. A traditional local maxima-based approach applies the first filter\n",
    "2. For the remaining candidates, the `log_int_percentile` prominence thresholds apply a second filter to remove insignificant peaks"
   ]
  },
  {
   "cell_type": "code",
   "execution_count": null,
   "metadata": {
    "tags": []
   },
   "outputs": [],
   "source": [
    "peak_candidate_idxs, peak_candidates = extraction.signal_extraction(\n",
    "    total_mass_df=total_mass_df, log_int_percentile=log_int_percentile\n",
    ")\n",
    "\n",
    "print(f\"Candiate Peak Count: {len(peak_candidates)}\")"
   ]
  },
  {
   "cell_type": "markdown",
   "metadata": {},
   "source": [
    "Visualize the discovered peaks."
   ]
  },
  {
   "cell_type": "code",
   "execution_count": null,
   "metadata": {
    "tags": []
   },
   "outputs": [],
   "source": [
    "plotting.plot_discovered_peaks(\n",
    "    total_mass_df=total_mass_df,\n",
    "    peak_candidate_idxs=peak_candidate_idxs,\n",
    "    peak_candidates=peak_candidates,\n",
    "    global_intensity_threshold=global_intensity_threshold,\n",
    ")"
   ]
  },
  {
   "cell_type": "markdown",
   "metadata": {},
   "source": [
    "### 3.3. Compute peak widths\n",
    "\n",
    "For each peak, compute the corresponding width at 10% of the height defined from the peak's base. This will be necessary for coordinate integration (WIP)."
   ]
  },
  {
   "cell_type": "code",
   "execution_count": null,
   "metadata": {
    "tags": []
   },
   "outputs": [],
   "source": [
    "peak_df, l_ips_r, r_ips_r, peak_widths_height = extraction.get_peak_widths(\n",
    "    total_mass_df=total_mass_df,\n",
    "    peak_candidate_idxs=peak_candidate_idxs,\n",
    "    peak_candidates=peak_candidates,\n",
    "    thresholds=thresholds,\n",
    ")"
   ]
  },
  {
   "cell_type": "markdown",
   "metadata": {},
   "source": [
    "### 3.4. Save Peak Spectra\n",
    "\n",
    "Define the m/z value of each peak, along with their corresponding lower and upper m/z bounds.\n",
    "\n",
    "* `save_peak_spectra_debug`: whether to save the corresponding peak spectra graphs to the `debug` folder. We highly recommend leaving this as `True`."
   ]
  },
  {
   "cell_type": "code",
   "execution_count": null,
   "metadata": {
    "tags": []
   },
   "outputs": [],
   "source": [
    "save_peak_spectra_debug = True\n",
    "\n",
    "panel_df = extraction.peak_spectra(\n",
    "    total_mass_df=total_mass_df,\n",
    "    peak_df=peak_df,\n",
    "    peak_candidate_idxs=peak_candidate_idxs,\n",
    "    peak_candidates=peak_candidates,\n",
    "    peak_widths_height=peak_widths_height,\n",
    "    l_ips_r=l_ips_r,\n",
    "    r_ips_r=r_ips_r,\n",
    "    save_peak_spectra_debug=save_peak_spectra_debug,\n",
    "    debug_dir=debug_dir,\n",
    ")\n",
    "\n",
    "display(panel_df.head())"
   ]
  },
  {
   "cell_type": "markdown",
   "metadata": {},
   "source": [
    "## 4. Coordinate Integration\n",
    "\n",
    "Once peaks have been identified, we need a way of mapping this information back to the slide. Across a coordinate's m/z spectrum, if it is also an identified peak from step 3, we store the corresponding intensity at that coordinate."
   ]
  },
  {
   "cell_type": "code",
   "execution_count": null,
   "metadata": {
    "tags": []
   },
   "outputs": [],
   "source": [
    "image_data = extraction.coordinate_integration(peak_df=peak_df, imz_data=imz_data)"
   ]
  },
  {
   "cell_type": "markdown",
   "metadata": {},
   "source": [
    "For QC purposes, visualize the intensity distribution around a desired peak\n",
    "\n",
    "* `desired_peak_hist`: the peak around where you want to visualize corresponding intensities (ideally something from your library)\n",
    "* `bin_count`: number of bins to use for the histogram"
   ]
  },
  {
   "cell_type": "code",
   "execution_count": null,
   "metadata": {
    "tags": []
   },
   "outputs": [],
   "source": [
    "desired_peak_hist = 1809.639659\n",
    "bin_count = 40\n",
    "\n",
    "_ = image_data.sel(peak=[desired_peak_hist], method=\"nearest\").plot.hist(bins=bin_count)"
   ]
  },
  {
   "cell_type": "markdown",
   "metadata": {},
   "source": [
    "Save the integrated intensity images per peak to the `extracted` folder. For every peak, a float32 and int32 image will be saved to the `float` and `int` subdirectories respectively.\n",
    "\n",
    "* The `float` images should be used for quantitative downstresam analysis\n",
    "* The `int` images are saved for visualization, as they're more compatible with most image viewers"
   ]
  },
  {
   "cell_type": "code",
   "execution_count": null,
   "metadata": {
    "tags": []
   },
   "outputs": [],
   "source": [
    "plotting.save_peak_images(image_xr=image_data, extraction_dir=extraction_dir)"
   ]
  },
  {
   "cell_type": "markdown",
   "metadata": {},
   "source": [
    "## 5. Glycan Library Matching\n",
    "\n",
    "While the filtered peaks provide meaningful information, they're not particularly useful without knowing what glycan encompasses them. The master glycan library list (`library_peak_df`) defines the glycans of interest as well as the m/z value they're centered at. In this way, peak values can be mapped to their corresponding glycan within a tolerance range."
   ]
  },
  {
   "cell_type": "code",
   "execution_count": null,
   "metadata": {
    "tags": []
   },
   "outputs": [],
   "source": [
    "matched_peaks_df = extraction.library_matching(\n",
    "    image_xr=image_data, library_peak_df=library_peak_df, ppm=50, extraction_dir=extraction_dir\n",
    ")"
   ]
  },
  {
   "cell_type": "markdown",
   "metadata": {},
   "source": [
    "As with the original peak images, the library matched intensity images are also saved, this time to the `output/extracted/library_matched` folder. There will likewise be `float` and `int` subdirectories containing float32 and int32 representations."
   ]
  },
  {
   "cell_type": "code",
   "execution_count": null,
   "metadata": {
    "tags": []
   },
   "outputs": [],
   "source": [
    "plotting.save_matched_peak_images(\n",
    "    image_xr=image_data, matched_peaks_df=matched_peaks_df, extraction_dir=extraction_dir\n",
    ")"
   ]
  },
  {
   "cell_type": "markdown",
   "metadata": {},
   "source": [
    "## 6. Core Naming and Cropping"
   ]
  },
  {
   "cell_type": "markdown",
   "metadata": {},
   "source": [
    "For TMAs, each core is extracted all at once. However, this makes it difficult to locate the exact positions of each core. Additionally, the default names assigned to each core aren't particularly useful because they don't contain any information about their position on the TMA.\n",
    "\n",
    "This section will help you assign informative names to each core and afterwards, segment out the locations of specific cores to generate FOV-level statistics."
   ]
  },
  {
   "cell_type": "markdown",
   "metadata": {},
   "source": [
    "It is helpful first to create an all-encompassing mask that defines the locations of all the cores. This will make it clear where the TMA was scanned for the naming step. You will need to provide the path to one of your extracted glycan images first.\n",
    "\n",
    "* `glycan_img_path`: path to one glycan image, needed to properly dimension the mask\n",
    "* `glycan_mask_path`: where the mask will be saved"
   ]
  },
  {
   "cell_type": "code",
   "execution_count": null,
   "metadata": {},
   "outputs": [],
   "source": [
    "glycan_img_path = \"path/to/glycan_img.tiff\"\n",
    "glycan_mask_path = \"path/to/glycan_mask.png\"\n",
    "\n",
    "# generate and save the glycan mask\n",
    "extraction.generate_glycan_mask(\n",
    "    imz_data=imz_data,\n",
    "    glycan_img_path=glycan_img_path,\n",
    "    glycan_mask_path=glycan_mask_path\n",
    ")"
   ]
  },
  {
   "cell_type": "markdown",
   "metadata": {},
   "source": [
    "Each core on the TMA should be appropriately named by the <a href=https://tsai.stanford.edu/research/maldi_tma/>TSAI MALDI tiler</a>. You will need to provide the PNG saved at `glycan_mask_path` as input. **Ensure that this step is completed before running the following sections.**"
   ]
  },
  {
   "cell_type": "markdown",
   "metadata": {},
   "source": [
    "The poslog files for your TMA run will contain each scanned coordinate in the exact order it was scanned. This, along with the tiler output, will be needed to map each coordinate to its respective core.\n",
    "\n",
    "* `centroid_path`: TSAI MALDI tiler output, contains name of each core mapped to respective centroid\n",
    "* `poslog_paths`: list of poslog files used for the TMA, contains all coordinates in order of acquisition. **Make sure this matches up with the order of acquisition for your run.**"
   ]
  },
  {
   "cell_type": "code",
   "execution_count": null,
   "metadata": {},
   "outputs": [],
   "source": [
    "centroid_path = \"path/to/centroids.json\"\n",
    "poslog_paths = [\"path/to/poslog1.txt\", \"path/to/poslog2.txt\"]\n",
    "\n",
    "# map coordinates to core names\n",
    "region_core_info = extraction.map_coordinates_to_core_name(\n",
    "    imz_data=imz_data,\n",
    "    centroid_path=centroid_path,\n",
    "    poslog_paths=poslog_paths\n",
    ")"
   ]
  },
  {
   "cell_type": "markdown",
   "metadata": {},
   "source": [
    "To generate FOV-level statistics, an individual mask for each core named by TSAI will be saved. They can then be loaded in as needed in the FOV-level-statistic-generating functions.\n",
    "\n",
    "* `glycan_crop_save_dir`: the directory where these masks will be saved"
   ]
  },
  {
   "cell_type": "code",
   "execution_count": null,
   "metadata": {},
   "outputs": [],
   "source": [
    "glycan_crop_save_dir = \"path/to/glycan/crops\"\n",
    "if not os.path.exists(glycan_crop_save_dir):\n",
    "    os.makedirs(glycan_crop_save_dir)\n",
    "\n",
    "extraction.generate_glycan_crop_masks(\n",
    "    glycan_mask_path=glycan_mask_path,\n",
    "    region_core_info=region_core_info,\n",
    "    glycan_crop_save_dir=glycan_crop_save_dir\n",
    ")"
   ]
  },
  {
   "cell_type": "markdown",
   "metadata": {},
   "source": [
    "Run the following cell to visualize the masks for certain cores for testing.\n",
    "\n",
    "* `cores_to_crop`: define all the cores you want to visualize their masks for. If multiple cores are specified, the individual masks are combined. Set to `None` to crop all cores out."
   ]
  },
  {
   "cell_type": "code",
   "execution_count": null,
   "metadata": {},
   "outputs": [],
   "source": [
    "cores_to_crop = [\"R1C1\", \"R1C2\"]\n",
    "\n",
    "# extract a binary mask with just the cores specified\n",
    "core_cropping_mask = extraction.load_glycan_crop_masks(\n",
    "    glycan_crop_save_dir=glycan_crop_save_dir,\n",
    "    cores_to_crop=cores_to_crop\n",
    ")\n",
    "\n",
    "# visualize the mask\n",
    "_ = plt.imshow(core_cropping_mask)"
   ]
  }
 ],
 "metadata": {
  "kernelspec": {
   "display_name": "Python 3 (ipykernel)",
   "language": "python",
   "name": "python3"
  },
  "language_info": {
   "codemirror_mode": {
    "name": "ipython",
    "version": 3
   },
   "file_extension": ".py",
   "mimetype": "text/x-python",
   "name": "python",
   "nbconvert_exporter": "python",
   "pygments_lexer": "ipython3",
   "version": "3.11.10"
  },
  "vscode": {
   "interpreter": {
    "hash": "785abe85ac71cce51a678e20ef045dc65ab31466fec2b31fbdd8ec2945e4eaff"
   }
  }
 },
 "nbformat": 4,
 "nbformat_minor": 4
}
