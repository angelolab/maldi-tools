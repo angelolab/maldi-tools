{
 "cells": [
  {
   "cell_type": "markdown",
   "id": "e749e089-0ab2-4947-9756-fd666d1d8a90",
   "metadata": {},
   "source": [
    "## Core Naming and Cropping"
   ]
  },
  {
   "cell_type": "markdown",
   "id": "93fc332e-05db-4245-8cc0-8fb39df951d3",
   "metadata": {},
   "source": [
    "For TMAs, each core is extracted all at once. However, this makes it difficult to locate the exact positions of each core. Additionally, the default names assigned to each core aren't particularly useful because they don't contain any information about their position on the TMA.\n",
    "\n",
    "This section will help you assign informative names to each core and afterwards, segment out the locations of specific cores to generate FOV-level statistics."
   ]
  },
  {
   "cell_type": "code",
   "execution_count": null,
   "id": "e6ae2cf3-9d06-40dc-95b3-04b2d874bd1b",
   "metadata": {},
   "outputs": [],
   "source": [
    "import os\n",
    "import pathlib\n",
    "\n",
    "import matplotlib.pyplot as plt\n",
    "from pyimzml.ImzMLParser import ImzMLParser\n",
    "from maldi_tools import extraction"
   ]
  },
  {
   "cell_type": "markdown",
   "id": "a5d90873-ff08-4d52-88c7-91a08a432d04",
   "metadata": {},
   "source": [
    "Load in the imzml data associated with your run.\n",
    "\n",
    "TODO: only the coordinates should be needed for this step, should be saved further upstream for efficient loading."
   ]
  },
  {
   "cell_type": "code",
   "execution_count": null,
   "id": "b66c027b-12d9-4b8d-94eb-cae93e1b6c28",
   "metadata": {},
   "outputs": [],
   "source": [
    "imzml_dir = base_dir / \"imzml\"\n",
    "data_name = \"panc2055_imzML\"\n",
    "data_file = pathlib.Path(data_name) / \"panc2055.imzML\"\n",
    "data_path = imzml_dir / data_file\n",
    "\n",
    "imz_data = ImzMLParser(data_path, include_spectra_metadata=\"full\")"
   ]
  },
  {
   "cell_type": "markdown",
   "id": "86ec9754-45e1-47dd-8de1-e730df573b3e",
   "metadata": {},
   "source": [
    "It is helpful first to create an all-encompassing mask that defines the locations of all the cores. This will make it clear where the TMA was scanned for the naming step. You will need to provide the path to one of your extracted glycan images first.\n",
    "\n",
    "* `glycan_img_path`: path to one glycan image, needed to properly dimension the mask\n",
    "* `glycan_mask_path`: where the mask will be saved"
   ]
  },
  {
   "cell_type": "code",
   "execution_count": null,
   "id": "81003123-2cf6-4251-920b-a49dc32c58b2",
   "metadata": {},
   "outputs": [],
   "source": [
    "glycan_img_path = \"path/to/glycan_img.tiff\"\n",
    "glycan_mask_path = \"path/to/glycan_mask.png\"\n",
    "\n",
    "# generate and save the glycan mask\n",
    "extraction.generate_glycan_mask(\n",
    "    imz_data=imz_data,\n",
    "    glycan_img_path=glycan_img_path,\n",
    "    glycan_mask_path=glycan_mask_path\n",
    ")"
   ]
  },
  {
   "cell_type": "markdown",
   "id": "3f8aa3b4-4715-40e7-b443-5084e818657a",
   "metadata": {},
   "source": [
    "Each core on the TMA should be appropriately named by the <a href=https://tsai.stanford.edu/research/maldi_tma/>TSAI MALDI tiler</a>. You will need to provide the PNG saved at `glycan_mask_path` as input. **Ensure that this step is completed before running the following sections.**"
   ]
  },
  {
   "cell_type": "markdown",
   "id": "c9ca28b7-2eca-4129-8d4a-ca177c10b7f9",
   "metadata": {},
   "source": [
    "The poslog files for your TMA run will contain each scanned coordinate in the exact order it was scanned. This, along with the tiler output, will be needed to map each coordinate to its respective core.\n",
    "\n",
    "* `centroid_path`: TSAI MALDI tiler output, contains name of each core mapped to respective centroid\n",
    "* `poslog_paths`: list of poslog files used for the TMA, contains all coordinates in order of acquisition. **Make sure this matches up with the order of acquisition for your run.**"
   ]
  },
  {
   "cell_type": "code",
   "execution_count": null,
   "id": "c56ed5d3-f32e-4e4c-ad54-1b8bf9d8322c",
   "metadata": {},
   "outputs": [],
   "source": [
    "centroid_path = \"path/to/centroids.json\"\n",
    "poslog_paths = [\"path/to/poslog1.txt\", \"path/to/poslog2.txt\"]\n",
    "\n",
    "# map coordinates to core names\n",
    "region_core_info = extraction.map_coordinates_to_core_name(\n",
    "    imz_data=imz_data,\n",
    "    centroid_path=centroid_path,\n",
    "    poslog_paths=poslog_paths\n",
    ")"
   ]
  },
  {
   "cell_type": "markdown",
   "id": "adfee254-1008-46af-b521-9c711be10ff3",
   "metadata": {},
   "source": [
    "To generate FOV-level statistics, an individual mask for each core named by TSAI will be saved. They can then be loaded in as needed in the FOV-level-statistic-generating functions.\n",
    "\n",
    "* `glycan_crop_save_dir`: the directory where these masks will be saved"
   ]
  },
  {
   "cell_type": "code",
   "execution_count": null,
   "id": "5ba07ad1-0eb2-4f66-8e36-02d1c636ccc8",
   "metadata": {},
   "outputs": [],
   "source": [
    "glycan_crop_save_dir = \"path/to/glycan/crops\"\n",
    "if not os.path.exists(glycan_crop_save_dir):\n",
    "    os.makedirs(glycan_crop_save_dir)\n",
    "\n",
    "extraction.generate_glycan_crop_masks(\n",
    "    glycan_mask_path=glycan_mask_path,\n",
    "    region_core_info=region_core_info,\n",
    "    glycan_crop_save_dir=glycan_crop_save_dir\n",
    ")"
   ]
  },
  {
   "cell_type": "markdown",
   "id": "17337d3f-d4a3-4f34-a69f-924b1da17f3d",
   "metadata": {},
   "source": [
    "Run the following cell to visualize the masks for certain cores for testing.\n",
    "\n",
    "* `cores_to_crop`: define all the cores you want to visualize their masks for. If multiple cores are specified, the individual masks are combined. Set to `None` to crop all cores out."
   ]
  },
  {
   "cell_type": "code",
   "execution_count": null,
   "id": "124c7c0a-9e3b-4fad-bdd9-5f1448f26219",
   "metadata": {},
   "outputs": [],
   "source": [
    "cores_to_crop = [\"R1C1\", \"R1C2\"]\n",
    "\n",
    "# extract a binary mask with just the cores specified\n",
    "core_cropping_mask = extraction.load_glycan_crop_masks(\n",
    "    glycan_crop_save_dir=glycan_crop_save_dir,\n",
    "    cores_to_crop=cores_to_crop\n",
    ")\n",
    "\n",
    "# visualize the mask\n",
    "_ = plt.imshow(core_cropping_mask)"
   ]
  }
 ],
 "metadata": {
  "kernelspec": {
   "display_name": "Python 3 (ipykernel)",
   "language": "python",
   "name": "python3"
  },
  "language_info": {
   "codemirror_mode": {
    "name": "ipython",
    "version": 3
   },
   "file_extension": ".py",
   "mimetype": "text/x-python",
   "name": "python",
   "nbconvert_exporter": "python",
   "pygments_lexer": "ipython3",
   "version": "3.11.6"
  }
 },
 "nbformat": 4,
 "nbformat_minor": 5
}
